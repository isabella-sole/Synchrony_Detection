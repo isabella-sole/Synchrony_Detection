{
 "cells": [
  {
   "cell_type": "code",
   "execution_count": 3,
   "id": "52b8d16a",
   "metadata": {},
   "outputs": [],
   "source": [
    "import shlex, subprocess\n",
    "import os"
   ]
  },
  {
   "cell_type": "code",
   "execution_count": 11,
   "id": "08bddea8",
   "metadata": {},
   "outputs": [],
   "source": [
    "PATH = r'Y:\\Synchronised_trimmed_videos_STT\\Videos'\n",
    "save_path = 'Y:\\\\Synchronised_trimmed_videos_STT\\\\face_detect_output\\\\'\n",
    "\n",
    "for sub_path in os.listdir(PATH):\n",
    "    participant = sub_path.split(sep = '_')[0]\n",
    "    new_save_path = os.path.normpath(save_path+participant)\n",
    "    if not os.path.isdir(new_save_path):\n",
    "        os.mkdir(new_save_path)\n",
    "    command = 'python detect_face.py -input_path '+sub_path+' '+'-txt_output_directory '+new_save_path+' '+'-yolo_exp_name '+participant\n",
    "    args = shlex.split(command, posix = 0)\n",
    "    break"
   ]
  },
  {
   "cell_type": "code",
   "execution_count": null,
   "id": "0aa5f9d7",
   "metadata": {},
   "outputs": [],
   "source": []
  }
 ],
 "metadata": {
  "kernelspec": {
   "display_name": "reaching_env",
   "language": "python",
   "name": "reaching_env"
  },
  "language_info": {
   "codemirror_mode": {
    "name": "ipython",
    "version": 3
   },
   "file_extension": ".py",
   "mimetype": "text/x-python",
   "name": "python",
   "nbconvert_exporter": "python",
   "pygments_lexer": "ipython3",
   "version": "3.7.16"
  }
 },
 "nbformat": 4,
 "nbformat_minor": 5
}
