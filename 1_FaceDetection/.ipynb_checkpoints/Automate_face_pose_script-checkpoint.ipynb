{
 "cells": [
  {
   "cell_type": "code",
   "execution_count": 1,
   "id": "52b8d16a",
   "metadata": {},
   "outputs": [],
   "source": [
    "import shlex, subprocess\n",
    "import os\n",
    "import cv2"
   ]
  },
  {
   "cell_type": "code",
   "execution_count": 4,
   "id": "08bddea8",
   "metadata": {},
   "outputs": [
    {
     "name": "stdout",
     "output_type": "stream",
     "text": [
      "Y:\\Synchronised_trimmed_videos_STT\\Face_detect_output\\new_videos_trimmed\\LP05022022\n",
      "Y:\\Synchronised_trimmed_videos_STT\\Face_detect_output\\new_videos_trimmed\\LP23012022\n"
     ]
    }
   ],
   "source": [
    "folder_path = [ r'Y:\\\\Synchronised_trimmed_videos_STT\\\\Videos\\\\tmp_folder\\\\']\n",
    "save_path = [r'Y:\\\\Synchronised_trimmed_videos_STT\\\\Face_detect_output\\\\new_videos_trimmed\\\\']\n",
    "model_path = 'detect_face.py'\n",
    "\n",
    "for i in range(len(folder_path)):\n",
    "    for sub_path in os.listdir(folder_path[i]):\n",
    "        if os.path.isdir(folder_path[i]+sub_path):\n",
    "            continue\n",
    "#             participant = sub_path.split(sep = '_')[0]\n",
    "#             count = 0\n",
    "#             new_save_path = os.path.normpath(save_path[i]+participant)\n",
    "#             print(new_save_path)\n",
    "#             if not os.path.isdir(new_save_path):\n",
    "#                 os.mkdir(new_save_path)\n",
    "#             for sub_sub_path in os.listdir(folder_path[i]+sub_path):\n",
    "#                 p_vid = folder_path[i]+sub_path+'\\\\'+sub_sub_path\n",
    "#                 command = 'python '+ model_path+ \" \" + '-input_path '+p_vid+' '+'-txt_output_directory '+new_save_path+' '+'-yolo_exp_name '+participant+'_'+str(count)\n",
    "#                 args = shlex.split(command, posix = 0)\n",
    "#                 subprocess.call(args)\n",
    "#                 count+=1\n",
    "        else:\n",
    "            print('yay')\n",
    "            participant = sub_path.split(sep = '_')[0]\n",
    "            new_save_path = os.path.normpath(save_path[i]+participant)\n",
    "            print(new_save_path)\n",
    "            if not os.path.isdir(new_save_path):\n",
    "                os.mkdir(new_save_path)\n",
    "            p_vid = folder_path[i]+sub_path\n",
    "            command = 'python '+ model_path+ \" \" + '-input_path '+p_vid+' '+'-txt_output_directory '+new_save_path+' '+'-yolo_exp_name '+participant\n",
    "            args = shlex.split(command, posix = 0)\n",
    "            subprocess.call(args)"
   ]
  },
  {
   "cell_type": "code",
   "execution_count": 5,
   "id": "0aa5f9d7",
   "metadata": {},
   "outputs": [
    {
     "ename": "NameError",
     "evalue": "name 'PATH' is not defined",
     "output_type": "error",
     "traceback": [
      "\u001b[1;31m---------------------------------------------------------------------------\u001b[0m",
      "\u001b[1;31mNameError\u001b[0m                                 Traceback (most recent call last)",
      "\u001b[1;32m~\\AppData\\Local\\Temp\\ipykernel_12240\\1365668256.py\u001b[0m in \u001b[0;36m<module>\u001b[1;34m\u001b[0m\n\u001b[0;32m      3\u001b[0m \u001b[0mmodel_path\u001b[0m \u001b[1;33m=\u001b[0m \u001b[1;34m'C:\\\\Users\\\\labadmin\\\\Desktop\\\\SynchronyAnalysis-Upload\\\\2_Reaching-Detection\\\\src\\\\main.py'\u001b[0m\u001b[1;33m\u001b[0m\u001b[1;33m\u001b[0m\u001b[0m\n\u001b[0;32m      4\u001b[0m \u001b[1;33m\u001b[0m\u001b[0m\n\u001b[1;32m----> 5\u001b[1;33m \u001b[1;32mfor\u001b[0m \u001b[0msub_path\u001b[0m \u001b[1;32min\u001b[0m \u001b[0mos\u001b[0m\u001b[1;33m.\u001b[0m\u001b[0mlistdir\u001b[0m\u001b[1;33m(\u001b[0m\u001b[0mPATH\u001b[0m\u001b[1;33m)\u001b[0m\u001b[1;33m:\u001b[0m\u001b[1;33m\u001b[0m\u001b[1;33m\u001b[0m\u001b[0m\n\u001b[0m\u001b[0;32m      6\u001b[0m     \u001b[0mparticipant\u001b[0m \u001b[1;33m=\u001b[0m \u001b[0msub_path\u001b[0m\u001b[1;33m.\u001b[0m\u001b[0msplit\u001b[0m\u001b[1;33m(\u001b[0m\u001b[0msep\u001b[0m \u001b[1;33m=\u001b[0m \u001b[1;34m'_'\u001b[0m\u001b[1;33m)\u001b[0m\u001b[1;33m[\u001b[0m\u001b[1;36m0\u001b[0m\u001b[1;33m]\u001b[0m\u001b[1;33m\u001b[0m\u001b[1;33m\u001b[0m\u001b[0m\n\u001b[0;32m      7\u001b[0m     \u001b[0mnew_save_path\u001b[0m \u001b[1;33m=\u001b[0m \u001b[0mos\u001b[0m\u001b[1;33m.\u001b[0m\u001b[0mpath\u001b[0m\u001b[1;33m.\u001b[0m\u001b[0mnormpath\u001b[0m\u001b[1;33m(\u001b[0m\u001b[0msave_path\u001b[0m\u001b[1;33m+\u001b[0m\u001b[0mparticipant\u001b[0m\u001b[1;33m)\u001b[0m\u001b[1;33m\u001b[0m\u001b[1;33m\u001b[0m\u001b[0m\n",
      "\u001b[1;31mNameError\u001b[0m: name 'PATH' is not defined"
     ]
    }
   ],
   "source": [
    "folder_path = [r'Y:\\\\Synchronised_trimmed_videos_STT\\\\Videos\\\\stt_demo_vid_baby\\\\', r'Y:\\\\Synchronised_trimmed_videos_STT\\\\Videos\\\\stt_demo_vid_mom\\\\']\n",
    "save_path = [r'Y:\\\\Synchronised_trimmed_videos_STT\\\\Pose_detect_output\\\\baby_cam\\\\', r'Y:\\\\Synchronised_trimmed_videos_STT\\\\Pose_detect_output\\\\mom_cam\\\\']\n",
    "model_path = 'C:\\\\Users\\\\labadmin\\\\Desktop\\\\SynchronyAnalysis-Upload\\\\2_Reaching-Detection\\\\src\\\\main.py'\n",
    "for i in range(len(folder_path)):\n",
    "    for sub_path in os.listdir(folder_path[i]):\n",
    "        participant = sub_path.split(sep = '_')[0]\n",
    "        new_save_path = os.path.normpath(save_path[i]+participant)\n",
    "        if not os.path.isdir(new_save_path):\n",
    "            os.mkdir(new_save_path)\n",
    "        p_vid = PATH+sub_path\n",
    "        command = 'python '+model_path+' '+'--input '+p_vid+' '+'--output '+new_save_path\n",
    "        args = shlex.split(command, posix = 0)\n",
    "        subprocess.call(args)"
   ]
  },
  {
   "cell_type": "code",
   "execution_count": 2,
   "id": "c30af578",
   "metadata": {},
   "outputs": [
    {
     "name": "stdout",
     "output_type": "stream",
     "text": [
      "[[[184 181 180]\n",
      "  [183 180 179]\n",
      "  [181 178 177]\n",
      "  ...\n",
      "  [188 185 186]\n",
      "  [198 195 196]\n",
      "  [203 200 201]]\n",
      "\n",
      " [[183 180 179]\n",
      "  [183 180 179]\n",
      "  [183 180 179]\n",
      "  ...\n",
      "  [189 186 187]\n",
      "  [190 187 188]\n",
      "  [191 188 189]]\n",
      "\n",
      " [[148 200 155]\n",
      "  [147 199 154]\n",
      "  [172 181 175]\n",
      "  ...\n",
      "  [178 175 174]\n",
      "  [187 184 183]\n",
      "  [190 187 186]]\n",
      "\n",
      " ...\n",
      "\n",
      " [[ 94 110 103]\n",
      "  [ 94 110 103]\n",
      "  [ 98 108 107]\n",
      "  ...\n",
      "  [ 69  66  26]\n",
      "  [ 72  69  29]\n",
      "  [ 73  70  30]]\n",
      "\n",
      " [[ 72 123  86]\n",
      "  [ 72 123  86]\n",
      "  [100 107 108]\n",
      "  ...\n",
      "  [ 71  70  30]\n",
      "  [ 67  66  26]\n",
      "  [ 66  65  25]]\n",
      "\n",
      " [[ 72 123  86]\n",
      "  [ 72 123  86]\n",
      "  [100 107 108]\n",
      "  ...\n",
      "  [ 69  68  28]\n",
      "  [ 70  69  29]\n",
      "  [ 71  70  30]]]\n"
     ]
    }
   ],
   "source": [
    "if os.path.isfile('Y:\\Synchronised_trimmed_videos_STT\\Videos\\LP005_vid_stt_demo.mp4'):\n",
    "    cap = cv2.VideoCapture('Y:\\Synchronised_trimmed_videos_STT\\Videos\\LP005_vid_stt_demo.mp4')\n",
    "    while(cap.isOpened()):\n",
    "  # Capture frame-by-frame\n",
    "        ret, frame = cap.read()\n",
    "        if ret == True:\n",
    "            print(frame)\n",
    "            break"
   ]
  },
  {
   "cell_type": "code",
   "execution_count": null,
   "id": "718f7f61",
   "metadata": {},
   "outputs": [],
   "source": []
  }
 ],
 "metadata": {
  "kernelspec": {
   "display_name": "reaching_env",
   "language": "python",
   "name": "reaching_env"
  },
  "language_info": {
   "codemirror_mode": {
    "name": "ipython",
    "version": 3
   },
   "file_extension": ".py",
   "mimetype": "text/x-python",
   "name": "python",
   "nbconvert_exporter": "python",
   "pygments_lexer": "ipython3",
   "version": "3.7.16"
  }
 },
 "nbformat": 4,
 "nbformat_minor": 5
}
