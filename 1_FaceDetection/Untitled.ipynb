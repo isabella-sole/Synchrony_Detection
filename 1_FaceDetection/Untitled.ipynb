{
 "cells": [
  {
   "cell_type": "code",
   "execution_count": 1,
   "id": "52b8d16a",
   "metadata": {},
   "outputs": [],
   "source": [
    "import shlex, subprocess\n",
    "import os"
   ]
  },
  {
   "cell_type": "code",
   "execution_count": 2,
   "id": "08bddea8",
   "metadata": {},
   "outputs": [],
   "source": [
    "PATH = 'E:\\\\Trimmed_videos\\\\'\n",
    "save_path = 'E:\\\\Brazil_face_and_pose_output\\\\face_detect_output\\\\'\n",
    "\n",
    "for sub_path in os.listdir(PATH):\n",
    "    participant = sub_path.split(sep = '_')[0]\n",
    "    new_save_path = os.path.normpath(save_path+participant)\n",
    "    if not os.path.isdir(new_save_path):\n",
    "        os.mkdir(new_save_path)\n",
    "    p_vid = PATH+sub_path\n",
    "    command = 'python detect_face.py -input_path '+p_vid+' '+'-txt_output_directory '+new_save_path+' '+'-yolo_exp_name '+participant\n",
    "    args = shlex.split(command, posix = 0)\n",
    "    subprocess.call(args)"
   ]
  },
  {
   "cell_type": "code",
   "execution_count": null,
   "id": "8231fd23",
   "metadata": {},
   "outputs": [],
   "source": [
    "### PATH = 'Y:\\\\Synchronised_trimmed_videos_STT\\\\Videos\\\\'\n",
    "save_path = 'Y:\\\\Synchronised_trimmed_videos_STT\\\\Pose_detect_output\\\\'\n",
    "model_path = 'C:\\Users\\labadmin\\Desktop\\SynchronyAnalysis-Upload\\2_Reaching-Detection\\src\\\\main.py'\n",
    "\n",
    "for sub_path in os.listdir(PATH):\n",
    "    participant = sub_path.split(sep = '_')[0]\n",
    "    new_save_path = os.path.normpath(save_path+participant)\n",
    "    if not os.path.isdir(new_save_path):\n",
    "        os.mkdir(new_save_path)\n",
    "    p_vid = PATH+sub_path\n",
    "    command = 'python '+model_path+' '+'--input '+p_vid+' '+'--output '+new_save_path\n",
    "    args = shlex.split(command, posix = 0)\n",
    "    subprocess.call(args)"
   ]
  },
  {
   "cell_type": "code",
   "execution_count": null,
   "id": "90568fe5",
   "metadata": {},
   "outputs": [],
   "source": []
  },
  {
   "cell_type": "code",
   "execution_count": null,
   "id": "c90225d0",
   "metadata": {},
   "outputs": [],
   "source": []
  }
 ],
 "metadata": {
  "kernelspec": {
   "display_name": "reaching_env",
   "language": "python",
   "name": "reaching_env"
  },
  "language_info": {
   "codemirror_mode": {
    "name": "ipython",
    "version": 3
   },
   "file_extension": ".py",
   "mimetype": "text/x-python",
   "name": "python",
   "nbconvert_exporter": "python",
   "pygments_lexer": "ipython3",
   "version": "3.7.16"
  }
 },
 "nbformat": 4,
 "nbformat_minor": 5
}
